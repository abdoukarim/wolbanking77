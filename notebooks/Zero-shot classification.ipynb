{
 "cells": [
  {
   "cell_type": "code",
   "execution_count": 2,
   "id": "027341a5-7c3d-48f8-a10f-bdc99514258d",
   "metadata": {
    "scrolled": true
   },
   "outputs": [
    {
     "name": "stdout",
     "output_type": "stream",
     "text": [
      "Requirement already satisfied: huggingface-hub in /usr/local/lib/python3.10/dist-packages (0.30.2)\n",
      "Requirement already satisfied: transformers==4.39.0 in /usr/local/lib/python3.10/dist-packages (4.39.0)\n",
      "Requirement already satisfied: scikit-learn in /usr/local/lib/python3.10/dist-packages (1.6.1)\n",
      "Requirement already satisfied: pandas in /usr/local/lib/python3.10/dist-packages (2.2.3)\n",
      "Requirement already satisfied: sentencepiece in /usr/local/lib/python3.10/dist-packages (0.2.0)\n",
      "Requirement already satisfied: protobuf in /usr/local/lib/python3.10/dist-packages (6.30.2)\n",
      "Requirement already satisfied: datasets in /usr/local/lib/python3.10/dist-packages (3.5.1)\n",
      "Requirement already satisfied: kagglehub in /usr/local/lib/python3.10/dist-packages (0.3.12)\n",
      "Requirement already satisfied: filelock in /usr/local/lib/python3.10/dist-packages (from transformers==4.39.0) (3.9.0)\n",
      "Requirement already satisfied: numpy>=1.17 in /usr/local/lib/python3.10/dist-packages (from transformers==4.39.0) (1.24.1)\n",
      "Requirement already satisfied: packaging>=20.0 in /usr/local/lib/python3.10/dist-packages (from transformers==4.39.0) (23.2)\n",
      "Requirement already satisfied: pyyaml>=5.1 in /usr/local/lib/python3.10/dist-packages (from transformers==4.39.0) (6.0.1)\n",
      "Requirement already satisfied: regex!=2019.12.17 in /usr/local/lib/python3.10/dist-packages (from transformers==4.39.0) (2024.11.6)\n",
      "Requirement already satisfied: requests in /usr/local/lib/python3.10/dist-packages (from transformers==4.39.0) (2.32.3)\n",
      "Requirement already satisfied: tokenizers<0.19,>=0.14 in /usr/local/lib/python3.10/dist-packages (from transformers==4.39.0) (0.15.2)\n",
      "Requirement already satisfied: safetensors>=0.4.1 in /usr/local/lib/python3.10/dist-packages (from transformers==4.39.0) (0.5.3)\n",
      "Requirement already satisfied: tqdm>=4.27 in /usr/local/lib/python3.10/dist-packages (from transformers==4.39.0) (4.67.1)\n",
      "Requirement already satisfied: fsspec>=2023.5.0 in /usr/local/lib/python3.10/dist-packages (from huggingface-hub) (2025.3.0)\n",
      "Requirement already satisfied: typing-extensions>=3.7.4.3 in /usr/local/lib/python3.10/dist-packages (from huggingface-hub) (4.13.2)\n",
      "Requirement already satisfied: scipy>=1.6.0 in /usr/local/lib/python3.10/dist-packages (from scikit-learn) (1.11.4)\n",
      "Requirement already satisfied: joblib>=1.2.0 in /usr/local/lib/python3.10/dist-packages (from scikit-learn) (1.4.2)\n",
      "Requirement already satisfied: threadpoolctl>=3.1.0 in /usr/local/lib/python3.10/dist-packages (from scikit-learn) (3.6.0)\n",
      "Requirement already satisfied: python-dateutil>=2.8.2 in /usr/local/lib/python3.10/dist-packages (from pandas) (2.8.2)\n",
      "Requirement already satisfied: pytz>=2020.1 in /usr/local/lib/python3.10/dist-packages (from pandas) (2025.2)\n",
      "Requirement already satisfied: tzdata>=2022.7 in /usr/local/lib/python3.10/dist-packages (from pandas) (2025.2)\n",
      "Requirement already satisfied: pyarrow>=15.0.0 in /usr/local/lib/python3.10/dist-packages (from datasets) (20.0.0)\n",
      "Requirement already satisfied: dill<0.3.9,>=0.3.0 in /usr/local/lib/python3.10/dist-packages (from datasets) (0.3.8)\n",
      "Requirement already satisfied: xxhash in /usr/local/lib/python3.10/dist-packages (from datasets) (3.5.0)\n",
      "Requirement already satisfied: multiprocess<0.70.17 in /usr/local/lib/python3.10/dist-packages (from datasets) (0.70.16)\n",
      "Requirement already satisfied: aiohttp in /usr/local/lib/python3.10/dist-packages (from datasets) (3.11.18)\n",
      "Requirement already satisfied: aiohappyeyeballs>=2.3.0 in /usr/local/lib/python3.10/dist-packages (from aiohttp->datasets) (2.6.1)\n",
      "Requirement already satisfied: aiosignal>=1.1.2 in /usr/local/lib/python3.10/dist-packages (from aiohttp->datasets) (1.3.2)\n",
      "Requirement already satisfied: async-timeout<6.0,>=4.0 in /usr/local/lib/python3.10/dist-packages (from aiohttp->datasets) (5.0.1)\n",
      "Requirement already satisfied: attrs>=17.3.0 in /usr/local/lib/python3.10/dist-packages (from aiohttp->datasets) (23.1.0)\n",
      "Requirement already satisfied: frozenlist>=1.1.1 in /usr/local/lib/python3.10/dist-packages (from aiohttp->datasets) (1.6.0)\n",
      "Requirement already satisfied: multidict<7.0,>=4.5 in /usr/local/lib/python3.10/dist-packages (from aiohttp->datasets) (6.4.3)\n",
      "Requirement already satisfied: propcache>=0.2.0 in /usr/local/lib/python3.10/dist-packages (from aiohttp->datasets) (0.3.1)\n",
      "Requirement already satisfied: yarl<2.0,>=1.17.0 in /usr/local/lib/python3.10/dist-packages (from aiohttp->datasets) (1.20.0)\n",
      "Requirement already satisfied: six>=1.5 in /usr/lib/python3/dist-packages (from python-dateutil>=2.8.2->pandas) (1.16.0)\n",
      "Requirement already satisfied: charset-normalizer<4,>=2 in /usr/local/lib/python3.10/dist-packages (from requests->transformers==4.39.0) (2.1.1)\n",
      "Requirement already satisfied: idna<4,>=2.5 in /usr/local/lib/python3.10/dist-packages (from requests->transformers==4.39.0) (3.4)\n",
      "Requirement already satisfied: urllib3<3,>=1.21.1 in /usr/local/lib/python3.10/dist-packages (from requests->transformers==4.39.0) (1.26.13)\n",
      "Requirement already satisfied: certifi>=2017.4.17 in /usr/local/lib/python3.10/dist-packages (from requests->transformers==4.39.0) (2022.12.7)\n",
      "\u001b[33mDEPRECATION: omegaconf 2.0.6 has a non-standard dependency specifier PyYAML>=5.1.*. pip 24.0 will enforce this behaviour change. A possible replacement is to upgrade to a newer version of omegaconf or contact the author to suggest that they release a version with a conforming dependency specifiers. Discussion can be found at https://github.com/pypa/pip/issues/12063\u001b[0m\u001b[33m\n",
      "\u001b[0m\u001b[33mWARNING: Running pip as the 'root' user can result in broken permissions and conflicting behaviour with the system package manager. It is recommended to use a virtual environment instead: https://pip.pypa.io/warnings/venv\u001b[0m\u001b[33m\n",
      "\u001b[0m\n",
      "\u001b[1m[\u001b[0m\u001b[34;49mnotice\u001b[0m\u001b[1;39;49m]\u001b[0m\u001b[39;49m A new release of pip is available: \u001b[0m\u001b[31;49m23.3.1\u001b[0m\u001b[39;49m -> \u001b[0m\u001b[32;49m25.1\u001b[0m\n",
      "\u001b[1m[\u001b[0m\u001b[34;49mnotice\u001b[0m\u001b[1;39;49m]\u001b[0m\u001b[39;49m To update, run: \u001b[0m\u001b[32;49mpython -m pip install --upgrade pip\u001b[0m\n"
     ]
    }
   ],
   "source": [
    "!pip install huggingface-hub transformers==4.39.0 scikit-learn pandas sentencepiece protobuf datasets kagglehub"
   ]
  },
  {
   "cell_type": "code",
   "execution_count": 1,
   "id": "9f3045ba-3611-469d-a771-04bd27c43197",
   "metadata": {},
   "outputs": [],
   "source": [
    "import pandas as pd\n",
    "from sklearn.model_selection import train_test_split\n",
    "from sklearn.preprocessing import LabelEncoder\n",
    "from sklearn.metrics import f1_score\n",
    "from sklearn import metrics\n",
    "\n",
    "import torch\n",
    "from transformers import pipeline\n",
    "from datasets import Dataset\n",
    "import os"
   ]
  },
  {
   "cell_type": "code",
   "execution_count": 2,
   "id": "a8b244ce-2578-42f9-a9a0-59c61feaa1df",
   "metadata": {},
   "outputs": [],
   "source": [
    "# Set the Seed for Reproducible Results\n",
    "seed = 42\n",
    "torch.manual_seed(seed)\n",
    "torch.backends.cudnn.deterministic = True"
   ]
  },
  {
   "cell_type": "code",
   "execution_count": null,
   "id": "c377c653-e659-487e-a8f5-eb3a9f49d043",
   "metadata": {},
   "outputs": [],
   "source": [
    "from huggingface_hub import login\n",
    "# Generate huggingface token\n",
    "TOKEN = \"HUGGINGFACE_TOKEN\"\n",
    "login(token = TOKEN)"
   ]
  },
  {
   "cell_type": "code",
   "execution_count": 4,
   "id": "c988a797-6e05-40d5-ba75-28cafe7b05ea",
   "metadata": {},
   "outputs": [
    {
     "name": "stdout",
     "output_type": "stream",
     "text": [
      "Using cuda device\n"
     ]
    }
   ],
   "source": [
    "# Get cpu, gpu or mps device for training.\n",
    "device = (\n",
    "    \"cuda\"\n",
    "    if torch.cuda.is_available()\n",
    "    else \"mps\"\n",
    "    if torch.backends.mps.is_available()\n",
    "    else \"cpu\"\n",
    ")\n",
    "print(f\"Using {device} device\")"
   ]
  },
  {
   "cell_type": "code",
   "execution_count": 5,
   "id": "24891a03-f923-443f-a41d-760589eafb41",
   "metadata": {},
   "outputs": [],
   "source": [
    "def compute_metrics(y_true, y_pred):\n",
    "    print(\"f1_score:\", metrics.f1_score(y_true, y_pred, average='weighted'))\n",
    "    print(\"precision_score:\", metrics.precision_score(y_true, y_pred, average='weighted'))\n",
    "    print(\"recall_score:\", metrics.recall_score(y_true, y_pred, average='weighted'))"
   ]
  },
  {
   "cell_type": "code",
   "execution_count": 6,
   "id": "34d7e0a8-f046-4b0a-a516-fe1d6760fddc",
   "metadata": {},
   "outputs": [
    {
     "name": "stdout",
     "output_type": "stream",
     "text": [
      "Train shape :  (4000,)\n",
      "Test shape :  (1000,)\n"
     ]
    }
   ],
   "source": [
    "df_train = pd.read_csv(\n",
    "    \"/root/.cache/kagglehub/datasets/abdoukarimkandji/wolbanking77v1/versions/3/wolbanking77v1/5k_split/train/train.csv\")\n",
    "\n",
    "df_test = pd.read_csv(\n",
    "    \"/root/.cache/kagglehub/datasets/abdoukarimkandji/wolbanking77v1/versions/3/wolbanking77v1/5k_split/test/test.csv\")\n",
    "\n",
    "df_train = df_train[['input_wo', 'label']]\n",
    "df_test = df_test[['input_wo', 'label']]\n",
    "\n",
    "#removal of punctuation marks\n",
    "df_train['input_wo_clean'] = df_train['input_wo'].replace(regex=True, to_replace = '[^\\\\w\\\\s]', value = ' ')\n",
    "df_test['input_wo_clean'] = df_test['input_wo'].replace(regex=True, to_replace = '[^\\\\w\\\\s]', value = ' ')\n",
    "\n",
    "# Apply lowercase\n",
    "df_train['input_wo_clean'] = df_train['input_wo_clean'].apply(lambda x: \" \".join(x.lower() for x in x.split()))\n",
    "df_test['input_wo_clean'] = df_test['input_wo_clean'].apply(lambda x: \" \".join(x.lower() for x in x.split()))\n",
    "\n",
    "X_train = df_train[\"input_wo_clean\"].reset_index(drop=True)\n",
    "X_test = df_test[\"input_wo_clean\"].reset_index(drop=True)\n",
    "y_train = df_train[\"label\"].reset_index(drop=True)\n",
    "y_test = df_test[\"label\"].reset_index(drop=True)\n",
    "\n",
    "print(\"Train shape : \", X_train.shape)\n",
    "print(\"Test shape : \", X_test.shape)"
   ]
  },
  {
   "cell_type": "markdown",
   "id": "d9e228ac-302e-4394-93af-42c07e9a6402",
   "metadata": {
    "jp-MarkdownHeadingCollapsed": true
   },
   "source": [
    "# bert-base-uncased"
   ]
  },
  {
   "cell_type": "code",
   "execution_count": 15,
   "id": "db34b692-b1f1-46b6-8275-2977bd246996",
   "metadata": {},
   "outputs": [
    {
     "name": "stderr",
     "output_type": "stream",
     "text": [
      "Some weights of BertForSequenceClassification were not initialized from the model checkpoint at bert-base-uncased and are newly initialized: ['classifier.bias', 'classifier.weight']\n",
      "You should probably TRAIN this model on a down-stream task to be able to use it for predictions and inference.\n",
      "Failed to determine 'entailment' label id from the label2id mapping in the model config. Setting to -1. Define a descriptive label2id mapping in the model config to ensure correct outputs.\n"
     ]
    }
   ],
   "source": [
    "classifier = pipeline(\"zero-shot-classification\", model=\"bert-base-uncased\", device=device, batch_size=8, truncation=True)\n",
    "candidate_labels = list(set(y_test))"
   ]
  },
  {
   "cell_type": "code",
   "execution_count": 16,
   "id": "aa3981a5-f743-4cf3-aac2-5e8929ab9e43",
   "metadata": {},
   "outputs": [
    {
     "name": "stderr",
     "output_type": "stream",
     "text": [
      "--- Logging error ---\n",
      "Traceback (most recent call last):\n",
      "  File \"/usr/lib/python3.10/logging/__init__.py\", line 1100, in emit\n",
      "    msg = self.format(record)\n",
      "  File \"/usr/lib/python3.10/logging/__init__.py\", line 943, in format\n",
      "    return fmt.format(record)\n",
      "  File \"/usr/lib/python3.10/logging/__init__.py\", line 678, in format\n",
      "    record.message = record.getMessage()\n",
      "  File \"/usr/lib/python3.10/logging/__init__.py\", line 368, in getMessage\n",
      "    msg = msg % self.args\n",
      "TypeError: not all arguments converted during string formatting\n",
      "Call stack:\n",
      "  File \"/usr/lib/python3.10/runpy.py\", line 196, in _run_module_as_main\n",
      "    return _run_code(code, main_globals, None,\n",
      "  File \"/usr/lib/python3.10/runpy.py\", line 86, in _run_code\n",
      "    exec(code, run_globals)\n",
      "  File \"/usr/local/lib/python3.10/dist-packages/ipykernel_launcher.py\", line 17, in <module>\n",
      "    app.launch_new_instance()\n",
      "  File \"/usr/local/lib/python3.10/dist-packages/traitlets/config/application.py\", line 1053, in launch_instance\n",
      "    app.start()\n",
      "  File \"/usr/local/lib/python3.10/dist-packages/ipykernel/kernelapp.py\", line 737, in start\n",
      "    self.io_loop.start()\n",
      "  File \"/usr/local/lib/python3.10/dist-packages/tornado/platform/asyncio.py\", line 195, in start\n",
      "    self.asyncio_loop.run_forever()\n",
      "  File \"/usr/lib/python3.10/asyncio/base_events.py\", line 603, in run_forever\n",
      "    self._run_once()\n",
      "  File \"/usr/lib/python3.10/asyncio/base_events.py\", line 1909, in _run_once\n",
      "    handle._run()\n",
      "  File \"/usr/lib/python3.10/asyncio/events.py\", line 80, in _run\n",
      "    self._context.run(self._callback, *self._args)\n",
      "  File \"/usr/local/lib/python3.10/dist-packages/ipykernel/kernelbase.py\", line 524, in dispatch_queue\n",
      "    await self.process_one()\n",
      "  File \"/usr/local/lib/python3.10/dist-packages/ipykernel/kernelbase.py\", line 513, in process_one\n",
      "    await dispatch(*args)\n",
      "  File \"/usr/local/lib/python3.10/dist-packages/ipykernel/kernelbase.py\", line 418, in dispatch_shell\n",
      "    await result\n",
      "  File \"/usr/local/lib/python3.10/dist-packages/ipykernel/kernelbase.py\", line 758, in execute_request\n",
      "    reply_content = await reply_content\n",
      "  File \"/usr/local/lib/python3.10/dist-packages/ipykernel/ipkernel.py\", line 426, in do_execute\n",
      "    res = shell.run_cell(\n",
      "  File \"/usr/local/lib/python3.10/dist-packages/ipykernel/zmqshell.py\", line 549, in run_cell\n",
      "    return super().run_cell(*args, **kwargs)\n",
      "  File \"/usr/local/lib/python3.10/dist-packages/IPython/core/interactiveshell.py\", line 3046, in run_cell\n",
      "    result = self._run_cell(\n",
      "  File \"/usr/local/lib/python3.10/dist-packages/IPython/core/interactiveshell.py\", line 3101, in _run_cell\n",
      "    result = runner(coro)\n",
      "  File \"/usr/local/lib/python3.10/dist-packages/IPython/core/async_helpers.py\", line 129, in _pseudo_sync_runner\n",
      "    coro.send(None)\n",
      "  File \"/usr/local/lib/python3.10/dist-packages/IPython/core/interactiveshell.py\", line 3306, in run_cell_async\n",
      "    has_raised = await self.run_ast_nodes(code_ast.body, cell_name,\n",
      "  File \"/usr/local/lib/python3.10/dist-packages/IPython/core/interactiveshell.py\", line 3488, in run_ast_nodes\n",
      "    if await self.run_code(code, result, async_=asy):\n",
      "  File \"/usr/local/lib/python3.10/dist-packages/IPython/core/interactiveshell.py\", line 3548, in run_code\n",
      "    exec(code_obj, self.user_global_ns, self.user_ns)\n",
      "  File \"/tmp/ipykernel_1103/297096357.py\", line 3, in <module>\n",
      "    output.append(classifier(x, candidate_labels, multi_label=False))\n",
      "  File \"/usr/local/lib/python3.10/dist-packages/transformers/pipelines/zero_shot_classification.py\", line 206, in __call__\n",
      "    return super().__call__(sequences, **kwargs)\n",
      "  File \"/usr/local/lib/python3.10/dist-packages/transformers/pipelines/base.py\", line 1167, in __call__\n",
      "    logger.warning_once(\n",
      "  File \"/usr/local/lib/python3.10/dist-packages/transformers/utils/logging.py\", line 329, in warning_once\n",
      "    self.warning(*args, **kwargs)\n",
      "Message: 'You seem to be using the pipelines sequentially on GPU. In order to maximize efficiency please use a dataset'\n",
      "Arguments: (<class 'UserWarning'>,)\n",
      "IOPub data rate exceeded.\n",
      "The Jupyter server will temporarily stop sending output\n",
      "to the client in order to avoid crashing it.\n",
      "To change this limit, set the config variable\n",
      "`--ServerApp.iopub_data_rate_limit`.\n",
      "\n",
      "Current values:\n",
      "ServerApp.iopub_data_rate_limit=1000000.0 (bytes/sec)\n",
      "ServerApp.rate_limit_window=3.0 (secs)\n",
      "\n"
     ]
    }
   ],
   "source": [
    "output = []\n",
    "for x in X_test.to_numpy():\n",
    "  output.append(classifier(x, candidate_labels, multi_label=False))\n",
    "# print(output)"
   ]
  },
  {
   "cell_type": "code",
   "execution_count": 19,
   "id": "a4fd6f0d-661d-49aa-a437-9f516287f72e",
   "metadata": {},
   "outputs": [],
   "source": [
    "y_pred = []\n",
    "for y in output:\n",
    "  y_pred.append(y['labels'][0])"
   ]
  },
  {
   "cell_type": "code",
   "execution_count": 20,
   "id": "acda32d3-5d77-4f53-a121-35d434683269",
   "metadata": {},
   "outputs": [
    {
     "name": "stdout",
     "output_type": "stream",
     "text": [
      "                                                  precision    recall  f1-score   support\n",
      "\n",
      "                           Refund not showing up       0.00      0.00      0.00        17\n",
      "                                activate my card       0.00      0.00      0.00        16\n",
      "                                       age limit       0.07      0.40      0.12        10\n",
      "                         apple pay or google pay       0.00      0.00      0.00        14\n",
      "                                     atm support       0.00      0.00      0.00         9\n",
      "                                automatic top up       0.00      0.00      0.00        14\n",
      "         balance not updated after bank transfer       0.00      0.00      0.00        17\n",
      "balance not updated after cheque or cash deposit       0.00      0.00      0.00        17\n",
      "                         beneficiary not allowed       0.00      0.00      0.00        15\n",
      "                                 cancel transfer       0.00      0.00      0.00        14\n",
      "                            card about to expire       0.00      0.00      0.00        13\n",
      "                                 card acceptance       0.00      0.00      0.00         7\n",
      "                                    card arrival       0.00      0.00      0.00        15\n",
      "                          card delivery estimate       0.00      0.00      0.00        11\n",
      "                                    card linking       0.00      0.00      0.00        16\n",
      "                                card not working       0.00      0.00      0.00        13\n",
      "                        card payment fee charged       0.00      0.00      0.00        21\n",
      "                     card payment not recognised       0.00      0.00      0.00        14\n",
      "                card payment wrong exchange rate       0.00      0.00      0.00        17\n",
      "                                  card swallowed       0.00      0.00      0.00         6\n",
      "                          cash withdrawal charge       0.25      0.06      0.10        17\n",
      "                  cash withdrawal not recognised       0.00      0.00      0.00        16\n",
      "                                      change pin       0.00      0.00      0.00        13\n",
      "                                compromised card       0.00      0.00      0.00         9\n",
      "                         contactless not working       0.00      0.00      0.00         3\n",
      "                                 country support       0.00      0.00      0.00        14\n",
      "                           declined card payment       0.00      0.00      0.00        16\n",
      "                        declined cash withdrawal       0.00      0.00      0.00        18\n",
      "                               declined transfer       0.00      0.00      0.00        13\n",
      "             direct debit payment not recognised       0.00      0.00      0.00        18\n",
      "                          disposable card limits       0.00      0.00      0.00        12\n",
      "                           edit personal details       0.00      0.00      0.00        11\n",
      "                                 exchange charge       0.00      0.00      0.00        13\n",
      "                                   exchange rate       0.00      0.00      0.00        11\n",
      "                                exchange via app       0.00      0.00      0.00        12\n",
      "                       extra charge on statement       0.00      0.00      0.00        19\n",
      "                                 failed transfer       0.00      0.00      0.00        14\n",
      "                           fiat currency support       0.00      0.00      0.00        12\n",
      "                     get disposable virtual card       0.00      0.00      0.00         9\n",
      "                               get physical card       0.00      0.00      0.00         9\n",
      "                              getting spare card       0.06      0.10      0.08        10\n",
      "                            getting virtual card       0.00      0.00      0.00         7\n",
      "                             lost or stolen card       0.00      0.00      0.00        10\n",
      "                            lost or stolen phone       0.00      0.00      0.00        13\n",
      "                             order physical card       0.00      0.00      0.00        11\n",
      "                              passcode forgotten       0.00      0.00      0.00        11\n",
      "                            pending card payment       0.00      0.00      0.00        16\n",
      "                         pending cash withdrawal       0.00      0.00      0.00        13\n",
      "                                  pending top up       0.20      0.07      0.10        15\n",
      "                                pending transfer       0.00      0.00      0.00        13\n",
      "                                     pin blocked       0.00      0.00      0.00        10\n",
      "                                 receiving money       0.02      0.22      0.03         9\n",
      "                                  request refund       0.00      0.00      0.00        18\n",
      "                          reverted card payment?       0.00      0.00      0.00        16\n",
      "                  supported cards and currencies       0.00      0.00      0.00        14\n",
      "                               terminate account       0.00      0.00      0.00        10\n",
      "                  top up by bank transfer charge       0.00      0.00      0.00        12\n",
      "                           top up by card charge       0.00      0.00      0.00        12\n",
      "                        top up by cash or cheque       0.05      0.17      0.07        12\n",
      "                                   top up failed       0.00      0.00      0.00        14\n",
      "                                   top up limits       0.00      0.00      0.00         9\n",
      "                                 top up reverted       0.00      0.00      0.00        15\n",
      "                              topping up by card       0.00      0.00      0.00        11\n",
      "                       transaction charged twice       0.00      0.00      0.00        17\n",
      "                            transfer fee charged       0.00      0.00      0.00        16\n",
      "                           transfer into account       0.00      0.00      0.00         9\n",
      "              transfer not received by recipient       0.11      0.06      0.07        18\n",
      "                                 transfer timing       0.02      0.27      0.04        15\n",
      "                       unable to verify identity       0.00      0.00      0.00         9\n",
      "                              verify my identity       0.00      0.00      0.00        11\n",
      "                          verify source of funds       0.00      0.00      0.00        12\n",
      "                                   verify top up       0.00      0.00      0.00        13\n",
      "                        virtual card not working       0.00      0.00      0.00         4\n",
      "                              visa or mastercard       0.00      0.00      0.00        14\n",
      "                             why verify identity       0.01      0.08      0.02        12\n",
      "                   wrong amount of cash received       0.00      0.00      0.00        18\n",
      "         wrong exchange rate for cash withdrawal       0.00      0.00      0.00        16\n",
      "\n",
      "                                        accuracy                           0.02      1000\n",
      "                                       macro avg       0.01      0.02      0.01      1000\n",
      "                                    weighted avg       0.01      0.02      0.01      1000\n",
      "\n"
     ]
    },
    {
     "name": "stderr",
     "output_type": "stream",
     "text": [
      "/usr/local/lib/python3.10/dist-packages/sklearn/metrics/_classification.py:1565: UndefinedMetricWarning: Precision is ill-defined and being set to 0.0 in labels with no predicted samples. Use `zero_division` parameter to control this behavior.\n",
      "  _warn_prf(average, modifier, f\"{metric.capitalize()} is\", len(result))\n",
      "/usr/local/lib/python3.10/dist-packages/sklearn/metrics/_classification.py:1565: UndefinedMetricWarning: Precision is ill-defined and being set to 0.0 in labels with no predicted samples. Use `zero_division` parameter to control this behavior.\n",
      "  _warn_prf(average, modifier, f\"{metric.capitalize()} is\", len(result))\n",
      "/usr/local/lib/python3.10/dist-packages/sklearn/metrics/_classification.py:1565: UndefinedMetricWarning: Precision is ill-defined and being set to 0.0 in labels with no predicted samples. Use `zero_division` parameter to control this behavior.\n",
      "  _warn_prf(average, modifier, f\"{metric.capitalize()} is\", len(result))\n"
     ]
    }
   ],
   "source": [
    "print(metrics.classification_report(y_test, y_pred))"
   ]
  },
  {
   "cell_type": "code",
   "execution_count": 22,
   "id": "e4742df4-b3b0-45e7-96e4-ccc577a7876a",
   "metadata": {},
   "outputs": [
    {
     "name": "stdout",
     "output_type": "stream",
     "text": [
      "f1_score: 0.008317346546272548\n",
      "precision_score: 0.011685598090843737\n",
      "recall_score: 0.017\n"
     ]
    },
    {
     "name": "stderr",
     "output_type": "stream",
     "text": [
      "/usr/local/lib/python3.10/dist-packages/sklearn/metrics/_classification.py:1565: UndefinedMetricWarning: Precision is ill-defined and being set to 0.0 in labels with no predicted samples. Use `zero_division` parameter to control this behavior.\n",
      "  _warn_prf(average, modifier, f\"{metric.capitalize()} is\", len(result))\n"
     ]
    }
   ],
   "source": [
    "compute_metrics(y_test, y_pred)"
   ]
  },
  {
   "cell_type": "code",
   "execution_count": null,
   "id": "399b2dc2-d0b5-4311-a722-03e4ede5cda9",
   "metadata": {},
   "outputs": [],
   "source": []
  },
  {
   "cell_type": "markdown",
   "id": "b4467ec4-6d08-48be-9027-3ef63fe8bf1c",
   "metadata": {
    "jp-MarkdownHeadingCollapsed": true
   },
   "source": [
    "# Davlan/afro-xlmr-large"
   ]
  },
  {
   "cell_type": "code",
   "execution_count": 24,
   "id": "b5b639a2-b82b-416f-a37c-3ce73fe405ab",
   "metadata": {},
   "outputs": [
    {
     "name": "stderr",
     "output_type": "stream",
     "text": [
      "Some weights of XLMRobertaForSequenceClassification were not initialized from the model checkpoint at Davlan/afro-xlmr-large and are newly initialized: ['classifier.dense.bias', 'classifier.dense.weight', 'classifier.out_proj.bias', 'classifier.out_proj.weight']\n",
      "You should probably TRAIN this model on a down-stream task to be able to use it for predictions and inference.\n",
      "Failed to determine 'entailment' label id from the label2id mapping in the model config. Setting to -1. Define a descriptive label2id mapping in the model config to ensure correct outputs.\n"
     ]
    }
   ],
   "source": [
    "classifier = pipeline(\"zero-shot-classification\", model=\"Davlan/afro-xlmr-large\", device=device, batch_size=8, truncation=True)\n",
    "candidate_labels = list(set(y_test))"
   ]
  },
  {
   "cell_type": "code",
   "execution_count": 25,
   "id": "6d1b4914-9c09-4a92-865a-81bcb61484df",
   "metadata": {},
   "outputs": [
    {
     "name": "stderr",
     "output_type": "stream",
     "text": [
      "IOPub data rate exceeded.\n",
      "The Jupyter server will temporarily stop sending output\n",
      "to the client in order to avoid crashing it.\n",
      "To change this limit, set the config variable\n",
      "`--ServerApp.iopub_data_rate_limit`.\n",
      "\n",
      "Current values:\n",
      "ServerApp.iopub_data_rate_limit=1000000.0 (bytes/sec)\n",
      "ServerApp.rate_limit_window=3.0 (secs)\n",
      "\n"
     ]
    }
   ],
   "source": [
    "output = []\n",
    "for x in X_test.to_numpy():\n",
    "  output.append(classifier(x, candidate_labels, multi_label=False))\n",
    "# print(output)"
   ]
  },
  {
   "cell_type": "code",
   "execution_count": null,
   "id": "54716dde-350e-4e0e-bafe-c6c356f310f4",
   "metadata": {},
   "outputs": [],
   "source": [
    "y_pred = []\n",
    "for y in output:\n",
    "  y_pred.append(y['labels'][0])\n",
    "y_pred"
   ]
  },
  {
   "cell_type": "code",
   "execution_count": 27,
   "id": "f423bc09-e01a-4b59-ba62-7a8e2ce3cfc3",
   "metadata": {
    "scrolled": true
   },
   "outputs": [
    {
     "name": "stdout",
     "output_type": "stream",
     "text": [
      "                                                  precision    recall  f1-score   support\n",
      "\n",
      "                           Refund not showing up       0.00      0.00      0.00        17\n",
      "                                activate my card       0.00      0.00      0.00        16\n",
      "                                       age limit       0.00      0.00      0.00        10\n",
      "                         apple pay or google pay       0.00      0.00      0.00        14\n",
      "                                     atm support       0.00      0.00      0.00         9\n",
      "                                automatic top up       0.00      0.00      0.00        14\n",
      "         balance not updated after bank transfer       0.00      0.00      0.00        17\n",
      "balance not updated after cheque or cash deposit       0.00      0.00      0.00        17\n",
      "                         beneficiary not allowed       0.00      0.00      0.00        15\n",
      "                                 cancel transfer       0.00      0.00      0.00        14\n",
      "                            card about to expire       0.00      0.00      0.00        13\n",
      "                                 card acceptance       0.00      0.00      0.00         7\n",
      "                                    card arrival       0.00      0.00      0.00        15\n",
      "                          card delivery estimate       0.00      0.00      0.00        11\n",
      "                                    card linking       0.00      0.00      0.00        16\n",
      "                                card not working       0.00      0.00      0.00        13\n",
      "                        card payment fee charged       0.11      0.05      0.07        21\n",
      "                     card payment not recognised       0.00      0.00      0.00        14\n",
      "                card payment wrong exchange rate       0.00      0.00      0.00        17\n",
      "                                  card swallowed       0.00      0.00      0.00         6\n",
      "                          cash withdrawal charge       0.00      0.00      0.00        17\n",
      "                  cash withdrawal not recognised       0.01      0.06      0.02        16\n",
      "                                      change pin       0.00      0.00      0.00        13\n",
      "                                compromised card       0.00      0.00      0.00         9\n",
      "                         contactless not working       0.00      0.00      0.00         3\n",
      "                                 country support       0.00      0.00      0.00        14\n",
      "                           declined card payment       0.00      0.00      0.00        16\n",
      "                        declined cash withdrawal       0.06      0.06      0.06        18\n",
      "                               declined transfer       0.00      0.00      0.00        13\n",
      "             direct debit payment not recognised       0.02      0.06      0.03        18\n",
      "                          disposable card limits       0.03      0.08      0.04        12\n",
      "                           edit personal details       0.02      0.09      0.04        11\n",
      "                                 exchange charge       0.00      0.00      0.00        13\n",
      "                                   exchange rate       0.00      0.00      0.00        11\n",
      "                                exchange via app       0.00      0.00      0.00        12\n",
      "                       extra charge on statement       0.00      0.00      0.00        19\n",
      "                                 failed transfer       0.00      0.00      0.00        14\n",
      "                           fiat currency support       0.00      0.00      0.00        12\n",
      "                     get disposable virtual card       0.00      0.00      0.00         9\n",
      "                               get physical card       1.00      0.11      0.20         9\n",
      "                              getting spare card       0.00      0.00      0.00        10\n",
      "                            getting virtual card       0.00      0.00      0.00         7\n",
      "                             lost or stolen card       0.00      0.00      0.00        10\n",
      "                            lost or stolen phone       0.04      0.08      0.06        13\n",
      "                             order physical card       0.00      0.00      0.00        11\n",
      "                              passcode forgotten       0.00      0.00      0.00        11\n",
      "                            pending card payment       0.00      0.00      0.00        16\n",
      "                         pending cash withdrawal       0.00      0.00      0.00        13\n",
      "                                  pending top up       0.00      0.00      0.00        15\n",
      "                                pending transfer       0.00      0.00      0.00        13\n",
      "                                     pin blocked       0.07      0.10      0.08        10\n",
      "                                 receiving money       0.00      0.00      0.00         9\n",
      "                                  request refund       0.08      0.06      0.06        18\n",
      "                          reverted card payment?       0.00      0.00      0.00        16\n",
      "                  supported cards and currencies       0.00      0.00      0.00        14\n",
      "                               terminate account       0.00      0.00      0.00        10\n",
      "                  top up by bank transfer charge       0.00      0.00      0.00        12\n",
      "                           top up by card charge       0.00      0.00      0.00        12\n",
      "                        top up by cash or cheque       0.00      0.00      0.00        12\n",
      "                                   top up failed       0.00      0.00      0.00        14\n",
      "                                   top up limits       0.00      0.00      0.00         9\n",
      "                                 top up reverted       0.00      0.00      0.00        15\n",
      "                              topping up by card       0.00      0.00      0.00        11\n",
      "                       transaction charged twice       0.00      0.00      0.00        17\n",
      "                            transfer fee charged       0.00      0.00      0.00        16\n",
      "                           transfer into account       0.00      0.00      0.00         9\n",
      "              transfer not received by recipient       0.08      0.06      0.07        18\n",
      "                                 transfer timing       0.06      0.07      0.06        15\n",
      "                       unable to verify identity       0.00      0.00      0.00         9\n",
      "                              verify my identity       0.00      0.00      0.00        11\n",
      "                          verify source of funds       0.00      0.00      0.00        12\n",
      "                                   verify top up       0.00      0.00      0.00        13\n",
      "                        virtual card not working       0.00      0.00      0.00         4\n",
      "                              visa or mastercard       0.00      0.00      0.00        14\n",
      "                             why verify identity       0.00      0.00      0.00        12\n",
      "                   wrong amount of cash received       0.00      0.00      0.00        18\n",
      "         wrong exchange rate for cash withdrawal       0.00      0.00      0.00        16\n",
      "\n",
      "                                        accuracy                           0.01      1000\n",
      "                                       macro avg       0.02      0.01      0.01      1000\n",
      "                                    weighted avg       0.02      0.01      0.01      1000\n",
      "\n"
     ]
    },
    {
     "name": "stderr",
     "output_type": "stream",
     "text": [
      "/usr/local/lib/python3.10/dist-packages/sklearn/metrics/_classification.py:1565: UndefinedMetricWarning: Precision is ill-defined and being set to 0.0 in labels with no predicted samples. Use `zero_division` parameter to control this behavior.\n",
      "  _warn_prf(average, modifier, f\"{metric.capitalize()} is\", len(result))\n",
      "/usr/local/lib/python3.10/dist-packages/sklearn/metrics/_classification.py:1565: UndefinedMetricWarning: Precision is ill-defined and being set to 0.0 in labels with no predicted samples. Use `zero_division` parameter to control this behavior.\n",
      "  _warn_prf(average, modifier, f\"{metric.capitalize()} is\", len(result))\n",
      "/usr/local/lib/python3.10/dist-packages/sklearn/metrics/_classification.py:1565: UndefinedMetricWarning: Precision is ill-defined and being set to 0.0 in labels with no predicted samples. Use `zero_division` parameter to control this behavior.\n",
      "  _warn_prf(average, modifier, f\"{metric.capitalize()} is\", len(result))\n"
     ]
    }
   ],
   "source": [
    "print(metrics.classification_report(y_test, y_pred))"
   ]
  },
  {
   "cell_type": "code",
   "execution_count": 30,
   "id": "d74de73d-cb9f-4bfe-901c-193ea19822c5",
   "metadata": {},
   "outputs": [
    {
     "name": "stdout",
     "output_type": "stream",
     "text": [
      "f1_score: 0.01092975156347801\n",
      "precision_score: 0.018659809527563152\n",
      "recall_score: 0.012\n"
     ]
    },
    {
     "name": "stderr",
     "output_type": "stream",
     "text": [
      "/usr/local/lib/python3.10/dist-packages/sklearn/metrics/_classification.py:1565: UndefinedMetricWarning: Precision is ill-defined and being set to 0.0 in labels with no predicted samples. Use `zero_division` parameter to control this behavior.\n",
      "  _warn_prf(average, modifier, f\"{metric.capitalize()} is\", len(result))\n"
     ]
    }
   ],
   "source": [
    "compute_metrics(y_test, y_pred)"
   ]
  },
  {
   "cell_type": "markdown",
   "id": "4643eaad-cd53-45f0-904b-b81d75a3cb0c",
   "metadata": {
    "jp-MarkdownHeadingCollapsed": true
   },
   "source": [
    "# bonadossou/afrolm_active_learning"
   ]
  },
  {
   "cell_type": "code",
   "execution_count": 31,
   "id": "29cb8b00-2021-46b2-87c8-15f5ea3addd4",
   "metadata": {
    "scrolled": true
   },
   "outputs": [
    {
     "name": "stderr",
     "output_type": "stream",
     "text": [
      "/usr/local/lib/python3.10/dist-packages/huggingface_hub/file_download.py:896: FutureWarning: `resume_download` is deprecated and will be removed in version 1.0.0. Downloads always resume when possible. If you want to force a new download, use `force_download=True`.\n",
      "  warnings.warn(\n"
     ]
    },
    {
     "data": {
      "application/vnd.jupyter.widget-view+json": {
       "model_id": "67ac4cf69b3f4f239f0714b0cc5f24b1",
       "version_major": 2,
       "version_minor": 0
      },
      "text/plain": [
       "config.json:   0%|          | 0.00/755 [00:00<?, ?B/s]"
      ]
     },
     "metadata": {},
     "output_type": "display_data"
    },
    {
     "data": {
      "application/vnd.jupyter.widget-view+json": {
       "model_id": "cb45fe0c90e540ada555b0f54c3f8daa",
       "version_major": 2,
       "version_minor": 0
      },
      "text/plain": [
       "pytorch_model.bin:   0%|          | 0.00/1.06G [00:00<?, ?B/s]"
      ]
     },
     "metadata": {},
     "output_type": "display_data"
    },
    {
     "name": "stderr",
     "output_type": "stream",
     "text": [
      "/usr/local/lib/python3.10/dist-packages/torch/_utils.py:776: UserWarning: TypedStorage is deprecated. It will be removed in the future and UntypedStorage will be the only storage class. This should only matter to you if you are using storages directly.  To access UntypedStorage directly, use tensor.untyped_storage() instead of tensor.storage()\n",
      "  return self.fget.__get__(instance, owner)()\n",
      "Some weights of XLMRobertaForSequenceClassification were not initialized from the model checkpoint at bonadossou/afrolm_active_learning and are newly initialized: ['classifier.dense.bias', 'classifier.dense.weight', 'classifier.out_proj.bias', 'classifier.out_proj.weight']\n",
      "You should probably TRAIN this model on a down-stream task to be able to use it for predictions and inference.\n"
     ]
    },
    {
     "data": {
      "application/vnd.jupyter.widget-view+json": {
       "model_id": "e80fd0f3296a4a19b7ddd81844595ac7",
       "version_major": 2,
       "version_minor": 0
      },
      "text/plain": [
       "tokenizer_config.json:   0%|          | 0.00/241 [00:00<?, ?B/s]"
      ]
     },
     "metadata": {},
     "output_type": "display_data"
    },
    {
     "data": {
      "application/vnd.jupyter.widget-view+json": {
       "model_id": "a81b7187102445dd82cc9ac7be213f9a",
       "version_major": 2,
       "version_minor": 0
      },
      "text/plain": [
       "sentencepiece.bpe.model:   0%|          | 0.00/6.01M [00:00<?, ?B/s]"
      ]
     },
     "metadata": {},
     "output_type": "display_data"
    },
    {
     "data": {
      "application/vnd.jupyter.widget-view+json": {
       "model_id": "c5dc2697bc5944af8670a60dd8929e51",
       "version_major": 2,
       "version_minor": 0
      },
      "text/plain": [
       "special_tokens_map.json:   0%|          | 0.00/150 [00:00<?, ?B/s]"
      ]
     },
     "metadata": {},
     "output_type": "display_data"
    },
    {
     "name": "stderr",
     "output_type": "stream",
     "text": [
      "Failed to determine 'entailment' label id from the label2id mapping in the model config. Setting to -1. Define a descriptive label2id mapping in the model config to ensure correct outputs.\n"
     ]
    }
   ],
   "source": [
    "classifier = pipeline(\"zero-shot-classification\", model=\"bonadossou/afrolm_active_learning\", device=device, batch_size=16, truncation=True)\n",
    "candidate_labels = list(set(y_test))"
   ]
  },
  {
   "cell_type": "code",
   "execution_count": 32,
   "id": "d9aa0ec4-7d7c-4268-96b6-b7778195e872",
   "metadata": {},
   "outputs": [],
   "source": [
    "data = {'text': X_test.to_list()}"
   ]
  },
  {
   "cell_type": "code",
   "execution_count": 33,
   "id": "3d76bd41-59c4-4095-87c5-a7406f768a82",
   "metadata": {},
   "outputs": [
    {
     "data": {
      "text/plain": [
       "Dataset({\n",
       "    features: ['text'],\n",
       "    num_rows: 1000\n",
       "})"
      ]
     },
     "execution_count": 33,
     "metadata": {},
     "output_type": "execute_result"
    }
   ],
   "source": [
    "dataset = Dataset.from_dict(data)\n",
    "dataset"
   ]
  },
  {
   "cell_type": "code",
   "execution_count": 34,
   "id": "c5ac3f48-9f8e-4a1f-bdd7-252f7a0d4d62",
   "metadata": {
    "scrolled": true
   },
   "outputs": [
    {
     "name": "stderr",
     "output_type": "stream",
     "text": [
      "Asking to truncate to max_length but no maximum length is provided and the model has no predefined maximum length. Default to no truncation.\n"
     ]
    }
   ],
   "source": [
    "output = []\n",
    "for x in dataset:\n",
    "  output.append(classifier(x['text'], candidate_labels, multi_label=False))"
   ]
  },
  {
   "cell_type": "code",
   "execution_count": 35,
   "id": "a012790d-a053-4652-82c7-6299d6b299e1",
   "metadata": {},
   "outputs": [],
   "source": [
    "y_pred = []\n",
    "for y in output:\n",
    "  y_pred.append(y['labels'][0])"
   ]
  },
  {
   "cell_type": "code",
   "execution_count": 36,
   "id": "27468399-d4ef-46b2-83af-94db9f7b095f",
   "metadata": {
    "scrolled": true
   },
   "outputs": [
    {
     "name": "stdout",
     "output_type": "stream",
     "text": [
      "                                                  precision    recall  f1-score   support\n",
      "\n",
      "                           Refund not showing up       0.00      0.00      0.00        17\n",
      "                                activate my card       0.00      0.00      0.00        16\n",
      "                                       age limit       0.00      0.00      0.00        10\n",
      "                         apple pay or google pay       0.00      0.00      0.00        14\n",
      "                                     atm support       0.01      0.11      0.02         9\n",
      "                                automatic top up       0.00      0.00      0.00        14\n",
      "         balance not updated after bank transfer       0.00      0.00      0.00        17\n",
      "balance not updated after cheque or cash deposit       0.00      0.00      0.00        17\n",
      "                         beneficiary not allowed       0.00      0.00      0.00        15\n",
      "                                 cancel transfer       0.00      0.00      0.00        14\n",
      "                            card about to expire       0.00      0.00      0.00        13\n",
      "                                 card acceptance       0.00      0.00      0.00         7\n",
      "                                    card arrival       0.00      0.00      0.00        15\n",
      "                          card delivery estimate       0.00      0.00      0.00        11\n",
      "                                    card linking       0.00      0.00      0.00        16\n",
      "                                card not working       0.00      0.00      0.00        13\n",
      "                        card payment fee charged       0.00      0.00      0.00        21\n",
      "                     card payment not recognised       0.00      0.00      0.00        14\n",
      "                card payment wrong exchange rate       0.00      0.00      0.00        17\n",
      "                                  card swallowed       0.00      0.00      0.00         6\n",
      "                          cash withdrawal charge       0.00      0.00      0.00        17\n",
      "                  cash withdrawal not recognised       0.01      0.06      0.02        16\n",
      "                                      change pin       0.00      0.00      0.00        13\n",
      "                                compromised card       0.00      0.00      0.00         9\n",
      "                         contactless not working       0.00      0.00      0.00         3\n",
      "                                 country support       0.00      0.00      0.00        14\n",
      "                           declined card payment       0.01      0.06      0.01        16\n",
      "                        declined cash withdrawal       0.00      0.00      0.00        18\n",
      "                               declined transfer       0.00      0.00      0.00        13\n",
      "             direct debit payment not recognised       0.03      0.17      0.06        18\n",
      "                          disposable card limits       0.00      0.00      0.00        12\n",
      "                           edit personal details       0.00      0.00      0.00        11\n",
      "                                 exchange charge       0.00      0.00      0.00        13\n",
      "                                   exchange rate       0.00      0.00      0.00        11\n",
      "                                exchange via app       0.00      0.00      0.00        12\n",
      "                       extra charge on statement       0.00      0.00      0.00        19\n",
      "                                 failed transfer       0.00      0.00      0.00        14\n",
      "                           fiat currency support       0.00      0.00      0.00        12\n",
      "                     get disposable virtual card       0.00      0.00      0.00         9\n",
      "                               get physical card       0.00      0.00      0.00         9\n",
      "                              getting spare card       0.00      0.00      0.00        10\n",
      "                            getting virtual card       0.00      0.00      0.00         7\n",
      "                             lost or stolen card       0.00      0.00      0.00        10\n",
      "                            lost or stolen phone       0.00      0.00      0.00        13\n",
      "                             order physical card       0.00      0.00      0.00        11\n",
      "                              passcode forgotten       0.00      0.00      0.00        11\n",
      "                            pending card payment       0.00      0.00      0.00        16\n",
      "                         pending cash withdrawal       0.00      0.00      0.00        13\n",
      "                                  pending top up       0.00      0.00      0.00        15\n",
      "                                pending transfer       0.00      0.00      0.00        13\n",
      "                                     pin blocked       0.02      0.10      0.03        10\n",
      "                                 receiving money       0.00      0.00      0.00         9\n",
      "                                  request refund       0.00      0.00      0.00        18\n",
      "                          reverted card payment?       0.00      0.00      0.00        16\n",
      "                  supported cards and currencies       0.00      0.00      0.00        14\n",
      "                               terminate account       0.00      0.00      0.00        10\n",
      "                  top up by bank transfer charge       0.00      0.00      0.00        12\n",
      "                           top up by card charge       0.00      0.00      0.00        12\n",
      "                        top up by cash or cheque       0.00      0.00      0.00        12\n",
      "                                   top up failed       0.03      0.14      0.06        14\n",
      "                                   top up limits       0.00      0.00      0.00         9\n",
      "                                 top up reverted       0.00      0.00      0.00        15\n",
      "                              topping up by card       0.00      0.00      0.00        11\n",
      "                       transaction charged twice       0.00      0.00      0.00        17\n",
      "                            transfer fee charged       0.00      0.00      0.00        16\n",
      "                           transfer into account       0.00      0.00      0.00         9\n",
      "              transfer not received by recipient       0.00      0.00      0.00        18\n",
      "                                 transfer timing       0.00      0.00      0.00        15\n",
      "                       unable to verify identity       0.00      0.00      0.00         9\n",
      "                              verify my identity       0.00      0.00      0.00        11\n",
      "                          verify source of funds       0.00      0.00      0.00        12\n",
      "                                   verify top up       0.00      0.00      0.00        13\n",
      "                        virtual card not working       0.00      0.00      0.00         4\n",
      "                              visa or mastercard       0.00      0.00      0.00        14\n",
      "                             why verify identity       0.00      0.00      0.00        12\n",
      "                   wrong amount of cash received       0.00      0.00      0.00        18\n",
      "         wrong exchange rate for cash withdrawal       0.00      0.00      0.00        16\n",
      "\n",
      "                                        accuracy                           0.01      1000\n",
      "                                       macro avg       0.00      0.01      0.00      1000\n",
      "                                    weighted avg       0.00      0.01      0.00      1000\n",
      "\n"
     ]
    },
    {
     "name": "stderr",
     "output_type": "stream",
     "text": [
      "/usr/local/lib/python3.10/dist-packages/sklearn/metrics/_classification.py:1565: UndefinedMetricWarning: Precision is ill-defined and being set to 0.0 in labels with no predicted samples. Use `zero_division` parameter to control this behavior.\n",
      "  _warn_prf(average, modifier, f\"{metric.capitalize()} is\", len(result))\n",
      "/usr/local/lib/python3.10/dist-packages/sklearn/metrics/_classification.py:1565: UndefinedMetricWarning: Precision is ill-defined and being set to 0.0 in labels with no predicted samples. Use `zero_division` parameter to control this behavior.\n",
      "  _warn_prf(average, modifier, f\"{metric.capitalize()} is\", len(result))\n",
      "/usr/local/lib/python3.10/dist-packages/sklearn/metrics/_classification.py:1565: UndefinedMetricWarning: Precision is ill-defined and being set to 0.0 in labels with no predicted samples. Use `zero_division` parameter to control this behavior.\n",
      "  _warn_prf(average, modifier, f\"{metric.capitalize()} is\", len(result))\n"
     ]
    }
   ],
   "source": [
    "print(metrics.classification_report(y_test, y_pred))"
   ]
  },
  {
   "cell_type": "code",
   "execution_count": 37,
   "id": "dcf1f377-cfc5-4945-9d12-c5ccb275084d",
   "metadata": {},
   "outputs": [
    {
     "name": "stdout",
     "output_type": "stream",
     "text": [
      "f1_score: 0.002818089576456643\n",
      "precision_score: 0.001696215782344033\n",
      "recall_score: 0.009\n"
     ]
    },
    {
     "name": "stderr",
     "output_type": "stream",
     "text": [
      "/usr/local/lib/python3.10/dist-packages/sklearn/metrics/_classification.py:1565: UndefinedMetricWarning: Precision is ill-defined and being set to 0.0 in labels with no predicted samples. Use `zero_division` parameter to control this behavior.\n",
      "  _warn_prf(average, modifier, f\"{metric.capitalize()} is\", len(result))\n"
     ]
    }
   ],
   "source": [
    "compute_metrics(y_test, y_pred)"
   ]
  },
  {
   "cell_type": "code",
   "execution_count": 35,
   "id": "52b6e3fc-04e4-472f-9370-0e86514e3c62",
   "metadata": {},
   "outputs": [
    {
     "data": {
      "text/plain": [
       "0.011347131413624926"
      ]
     },
     "execution_count": 35,
     "metadata": {},
     "output_type": "execute_result"
    }
   ],
   "source": [
    "metrics.f1_score(y_test, y_pred, average='weighted')"
   ]
  },
  {
   "cell_type": "markdown",
   "id": "451ef1ed-223d-4f29-ade1-83d372a2171a",
   "metadata": {},
   "source": [
    "# MoritzLaurer/mDeBERTa-v3-base-mnli-xnli"
   ]
  },
  {
   "cell_type": "code",
   "execution_count": 13,
   "id": "7656dffa-fd4e-48a2-935e-597cbe996f2d",
   "metadata": {},
   "outputs": [
    {
     "name": "stderr",
     "output_type": "stream",
     "text": [
      "/usr/local/lib/python3.10/dist-packages/huggingface_hub/file_download.py:896: FutureWarning: `resume_download` is deprecated and will be removed in version 1.0.0. Downloads always resume when possible. If you want to force a new download, use `force_download=True`.\n",
      "  warnings.warn(\n"
     ]
    }
   ],
   "source": [
    "classifier = pipeline(\"zero-shot-classification\", model=\"MoritzLaurer/mDeBERTa-v3-base-mnli-xnli\", device=device, batch_size=128, truncation=True)\n",
    "candidate_labels = list(y_test)"
   ]
  },
  {
   "cell_type": "code",
   "execution_count": 26,
   "id": "3c9068d8-1d9d-467a-9bbf-e450c5360968",
   "metadata": {},
   "outputs": [
    {
     "data": {
      "text/plain": [
       "Dataset({\n",
       "    features: ['text'],\n",
       "    num_rows: 1000\n",
       "})"
      ]
     },
     "execution_count": 26,
     "metadata": {},
     "output_type": "execute_result"
    }
   ],
   "source": [
    "data = {'text': X_test.to_list()}\n",
    "dataset = Dataset.from_dict(data)\n",
    "dataset"
   ]
  },
  {
   "cell_type": "code",
   "execution_count": 27,
   "id": "de4fc774-68c8-404b-b8ea-5f27b29abfda",
   "metadata": {},
   "outputs": [],
   "source": [
    "def zero_shot_classifier(classifier, x):\n",
    "    return classifier(x['text'], candidate_labels, multi_label=False)"
   ]
  },
  {
   "cell_type": "code",
   "execution_count": 28,
   "id": "eef82cb4-31d8-4fba-8efc-b8d1ab7c6006",
   "metadata": {},
   "outputs": [
    {
     "data": {
      "application/vnd.jupyter.widget-view+json": {
       "model_id": "9d809cd091fb408094d388d487bfd3bf",
       "version_major": 2,
       "version_minor": 0
      },
      "text/plain": [
       "Map:   0%|          | 0/1000 [00:00<?, ? examples/s]"
      ]
     },
     "metadata": {},
     "output_type": "display_data"
    }
   ],
   "source": [
    "# output = []\n",
    "output = dataset.map(lambda x: zero_shot_classifier(classifier, x))"
   ]
  },
  {
   "cell_type": "code",
   "execution_count": 29,
   "id": "4755f586-eeb7-4346-ad99-83920d758c3c",
   "metadata": {},
   "outputs": [
    {
     "data": {
      "text/plain": [
       "'age limit'"
      ]
     },
     "execution_count": 29,
     "metadata": {},
     "output_type": "execute_result"
    }
   ],
   "source": [
    "output[0]['labels'][0]"
   ]
  },
  {
   "cell_type": "code",
   "execution_count": 30,
   "id": "436f9f19-b1b8-404a-aca9-f762d31ad4db",
   "metadata": {},
   "outputs": [],
   "source": [
    "y_pred = []\n",
    "for y in output:\n",
    "  y_pred.append(y['labels'][0])"
   ]
  },
  {
   "cell_type": "code",
   "execution_count": 31,
   "id": "d11355cd-6f7f-4968-9781-e119bc972581",
   "metadata": {
    "scrolled": true
   },
   "outputs": [
    {
     "name": "stdout",
     "output_type": "stream",
     "text": [
      "                                                  precision    recall  f1-score   support\n",
      "\n",
      "                           Refund not showing up       0.00      0.00      0.00        17\n",
      "                                activate my card       1.00      0.06      0.12        16\n",
      "                                       age limit       0.01      0.20      0.02        10\n",
      "                         apple pay or google pay       0.00      0.00      0.00        14\n",
      "                                     atm support       0.00      0.00      0.00         9\n",
      "                                automatic top up       0.80      0.29      0.42        14\n",
      "         balance not updated after bank transfer       0.00      0.00      0.00        17\n",
      "balance not updated after cheque or cash deposit       0.00      0.00      0.00        17\n",
      "                         beneficiary not allowed       0.14      0.07      0.09        15\n",
      "                                 cancel transfer       0.00      0.00      0.00        14\n",
      "                            card about to expire       0.00      0.00      0.00        13\n",
      "                                 card acceptance       0.00      0.00      0.00         7\n",
      "                                    card arrival       0.00      0.00      0.00        15\n",
      "                          card delivery estimate       0.00      0.00      0.00        11\n",
      "                                    card linking       0.00      0.00      0.00        16\n",
      "                                card not working       0.00      0.00      0.00        13\n",
      "                        card payment fee charged       0.00      0.00      0.00        21\n",
      "                     card payment not recognised       0.00      0.00      0.00        14\n",
      "                card payment wrong exchange rate       0.00      0.00      0.00        17\n",
      "                                  card swallowed       0.00      0.00      0.00         6\n",
      "                          cash withdrawal charge       0.00      0.00      0.00        17\n",
      "                  cash withdrawal not recognised       0.00      0.00      0.00        16\n",
      "                                      change pin       0.18      0.23      0.20        13\n",
      "                                compromised card       0.00      0.00      0.00         9\n",
      "                         contactless not working       0.00      0.00      0.00         3\n",
      "                                 country support       0.00      0.00      0.00        14\n",
      "                           declined card payment       0.00      0.00      0.00        16\n",
      "                        declined cash withdrawal       0.05      0.06      0.05        18\n",
      "                               declined transfer       0.00      0.00      0.00        13\n",
      "             direct debit payment not recognised       0.00      0.00      0.00        18\n",
      "                          disposable card limits       0.00      0.00      0.00        12\n",
      "                           edit personal details       0.00      0.00      0.00        11\n",
      "                                 exchange charge       0.00      0.00      0.00        13\n",
      "                                   exchange rate       0.00      0.00      0.00        11\n",
      "                                exchange via app       0.00      0.00      0.00        12\n",
      "                       extra charge on statement       0.00      0.00      0.00        19\n",
      "                                 failed transfer       0.00      0.00      0.00        14\n",
      "                           fiat currency support       0.00      0.00      0.00        12\n",
      "                     get disposable virtual card       0.00      0.00      0.00         9\n",
      "                               get physical card       0.00      0.00      0.00         9\n",
      "                              getting spare card       0.00      0.00      0.00        10\n",
      "                            getting virtual card       1.00      0.14      0.25         7\n",
      "                             lost or stolen card       0.00      0.00      0.00        10\n",
      "                            lost or stolen phone       0.00      0.00      0.00        13\n",
      "                             order physical card       0.00      0.00      0.00        11\n",
      "                              passcode forgotten       0.00      0.00      0.00        11\n",
      "                            pending card payment       0.00      0.00      0.00        16\n",
      "                         pending cash withdrawal       0.00      0.00      0.00        13\n",
      "                                  pending top up       0.00      0.00      0.00        15\n",
      "                                pending transfer       0.00      0.00      0.00        13\n",
      "                                     pin blocked       1.00      0.10      0.18        10\n",
      "                                 receiving money       0.02      0.33      0.03         9\n",
      "                                  request refund       0.00      0.00      0.00        18\n",
      "                          reverted card payment?       0.00      0.00      0.00        16\n",
      "                  supported cards and currencies       0.00      0.00      0.00        14\n",
      "                               terminate account       0.09      0.10      0.10        10\n",
      "                  top up by bank transfer charge       0.00      0.00      0.00        12\n",
      "                           top up by card charge       0.00      0.00      0.00        12\n",
      "                        top up by cash or cheque       0.00      0.00      0.00        12\n",
      "                                   top up failed       0.03      0.21      0.05        14\n",
      "                                   top up limits       0.01      0.11      0.01         9\n",
      "                                 top up reverted       0.00      0.00      0.00        15\n",
      "                              topping up by card       0.03      0.09      0.04        11\n",
      "                       transaction charged twice       0.00      0.00      0.00        17\n",
      "                            transfer fee charged       0.00      0.00      0.00        16\n",
      "                           transfer into account       0.00      0.00      0.00         9\n",
      "              transfer not received by recipient       0.00      0.00      0.00        18\n",
      "                                 transfer timing       0.00      0.00      0.00        15\n",
      "                       unable to verify identity       0.00      0.00      0.00         9\n",
      "                              verify my identity       0.00      0.00      0.00        11\n",
      "                          verify source of funds       0.00      0.00      0.00        12\n",
      "                                   verify top up       0.00      0.00      0.00        13\n",
      "                        virtual card not working       0.00      0.00      0.00         4\n",
      "                              visa or mastercard       1.00      0.36      0.53        14\n",
      "                             why verify identity       0.00      0.00      0.00        12\n",
      "                   wrong amount of cash received       0.00      0.00      0.00        18\n",
      "         wrong exchange rate for cash withdrawal       0.00      0.00      0.00        16\n",
      "\n",
      "                                        accuracy                           0.03      1000\n",
      "                                       macro avg       0.07      0.03      0.03      1000\n",
      "                                    weighted avg       0.07      0.03      0.03      1000\n",
      "\n"
     ]
    },
    {
     "name": "stderr",
     "output_type": "stream",
     "text": [
      "/usr/local/lib/python3.10/dist-packages/sklearn/metrics/_classification.py:1565: UndefinedMetricWarning: Precision is ill-defined and being set to 0.0 in labels with no predicted samples. Use `zero_division` parameter to control this behavior.\n",
      "  _warn_prf(average, modifier, f\"{metric.capitalize()} is\", len(result))\n",
      "/usr/local/lib/python3.10/dist-packages/sklearn/metrics/_classification.py:1565: UndefinedMetricWarning: Precision is ill-defined and being set to 0.0 in labels with no predicted samples. Use `zero_division` parameter to control this behavior.\n",
      "  _warn_prf(average, modifier, f\"{metric.capitalize()} is\", len(result))\n",
      "/usr/local/lib/python3.10/dist-packages/sklearn/metrics/_classification.py:1565: UndefinedMetricWarning: Precision is ill-defined and being set to 0.0 in labels with no predicted samples. Use `zero_division` parameter to control this behavior.\n",
      "  _warn_prf(average, modifier, f\"{metric.capitalize()} is\", len(result))\n"
     ]
    }
   ],
   "source": [
    "print(metrics.classification_report(y_test, y_pred))"
   ]
  },
  {
   "cell_type": "code",
   "execution_count": 32,
   "id": "5df4e6fb-7d22-4b44-aea2-13811b76fd9b",
   "metadata": {},
   "outputs": [
    {
     "data": {
      "text/plain": [
       "0.026400031345717907"
      ]
     },
     "execution_count": 32,
     "metadata": {},
     "output_type": "execute_result"
    }
   ],
   "source": [
    "metrics.f1_score(y_test, y_pred, average='weighted')"
   ]
  },
  {
   "cell_type": "code",
   "execution_count": 33,
   "id": "077a9ecb-b8a4-4ae6-ba6a-e2eaab74c811",
   "metadata": {},
   "outputs": [
    {
     "name": "stdout",
     "output_type": "stream",
     "text": [
      "f1_score: 0.026400031345717907\n",
      "precision_score: 0.06552751598176082\n",
      "recall_score: 0.028\n"
     ]
    },
    {
     "name": "stderr",
     "output_type": "stream",
     "text": [
      "/usr/local/lib/python3.10/dist-packages/sklearn/metrics/_classification.py:1565: UndefinedMetricWarning: Precision is ill-defined and being set to 0.0 in labels with no predicted samples. Use `zero_division` parameter to control this behavior.\n",
      "  _warn_prf(average, modifier, f\"{metric.capitalize()} is\", len(result))\n"
     ]
    }
   ],
   "source": [
    "compute_metrics(y_test, y_pred)"
   ]
  },
  {
   "cell_type": "markdown",
   "id": "e611609f-b549-4a28-a88a-da982e65f41a",
   "metadata": {},
   "source": [
    "# castorini/afriteva_v2_base"
   ]
  },
  {
   "cell_type": "code",
   "execution_count": 34,
   "id": "d4840dab-0c6c-49f8-887f-dc15a10847b9",
   "metadata": {},
   "outputs": [
    {
     "name": "stderr",
     "output_type": "stream",
     "text": [
      "/usr/local/lib/python3.10/dist-packages/huggingface_hub/file_download.py:896: FutureWarning: `resume_download` is deprecated and will be removed in version 1.0.0. Downloads always resume when possible. If you want to force a new download, use `force_download=True`.\n",
      "  warnings.warn(\n"
     ]
    },
    {
     "data": {
      "application/vnd.jupyter.widget-view+json": {
       "model_id": "a9a87e0917544878969c6c4e2ae1645b",
       "version_major": 2,
       "version_minor": 0
      },
      "text/plain": [
       "config.json:   0%|          | 0.00/776 [00:00<?, ?B/s]"
      ]
     },
     "metadata": {},
     "output_type": "display_data"
    },
    {
     "data": {
      "application/vnd.jupyter.widget-view+json": {
       "model_id": "c2cc8502278748b1b94f8065e9f6bb79",
       "version_major": 2,
       "version_minor": 0
      },
      "text/plain": [
       "pytorch_model.bin:   0%|          | 0.00/1.72G [00:00<?, ?B/s]"
      ]
     },
     "metadata": {},
     "output_type": "display_data"
    },
    {
     "name": "stderr",
     "output_type": "stream",
     "text": [
      "/usr/local/lib/python3.10/dist-packages/torch/_utils.py:776: UserWarning: TypedStorage is deprecated. It will be removed in the future and UntypedStorage will be the only storage class. This should only matter to you if you are using storages directly.  To access UntypedStorage directly, use tensor.untyped_storage() instead of tensor.storage()\n",
      "  return self.fget.__get__(instance, owner)()\n",
      "Some weights of T5ForSequenceClassification were not initialized from the model checkpoint at castorini/afriteva_v2_base and are newly initialized: ['classification_head.dense.bias', 'classification_head.dense.weight', 'classification_head.out_proj.bias', 'classification_head.out_proj.weight']\n",
      "You should probably TRAIN this model on a down-stream task to be able to use it for predictions and inference.\n"
     ]
    },
    {
     "data": {
      "application/vnd.jupyter.widget-view+json": {
       "model_id": "b05f9a5d2ef64c62ab937a7cc3e9c1c2",
       "version_major": 2,
       "version_minor": 0
      },
      "text/plain": [
       "tokenizer_config.json:   0%|          | 0.00/2.31k [00:00<?, ?B/s]"
      ]
     },
     "metadata": {},
     "output_type": "display_data"
    },
    {
     "data": {
      "application/vnd.jupyter.widget-view+json": {
       "model_id": "9d98e15655b541e98d9632563648f0a4",
       "version_major": 2,
       "version_minor": 0
      },
      "text/plain": [
       "spiece.model:   0%|          | 0.00/2.91M [00:00<?, ?B/s]"
      ]
     },
     "metadata": {},
     "output_type": "display_data"
    },
    {
     "data": {
      "application/vnd.jupyter.widget-view+json": {
       "model_id": "8466984fc42a4bf3b492c9a780b3540c",
       "version_major": 2,
       "version_minor": 0
      },
      "text/plain": [
       "special_tokens_map.json:   0%|          | 0.00/2.20k [00:00<?, ?B/s]"
      ]
     },
     "metadata": {},
     "output_type": "display_data"
    },
    {
     "name": "stderr",
     "output_type": "stream",
     "text": [
      "You are using the default legacy behaviour of the <class 'transformers.models.t5.tokenization_t5.T5Tokenizer'>. This is expected, and simply means that the `legacy` (previous) behavior will be used so nothing changes for you. If you want to use the new behaviour, set `legacy=False`. This should only be set if you understand what it means, and thoroughly read the reason why this was added as explained in https://github.com/huggingface/transformers/pull/24565\n",
      "/usr/local/lib/python3.10/dist-packages/transformers/convert_slow_tokenizer.py:550: UserWarning: The sentencepiece tokenizer that you are converting to a fast tokenizer uses the byte fallback option which is not implemented in the fast tokenizers. In practice this means that the fast version of the tokenizer can produce unknown tokens whereas the sentencepiece version would have converted these unknown tokens into a sequence of byte tokens matching the original piece of text.\n",
      "  warnings.warn(\n",
      "Failed to determine 'entailment' label id from the label2id mapping in the model config. Setting to -1. Define a descriptive label2id mapping in the model config to ensure correct outputs.\n"
     ]
    }
   ],
   "source": [
    "classifier = pipeline(\"zero-shot-classification\", model=\"castorini/afriteva_v2_base\", device=device, batch_size=8, truncation=True)\n",
    "candidate_labels = list(set(y_test))"
   ]
  },
  {
   "cell_type": "code",
   "execution_count": 35,
   "id": "a9cc2c02-6354-478f-bb4e-9e9e84c2eba0",
   "metadata": {},
   "outputs": [
    {
     "data": {
      "text/plain": [
       "Dataset({\n",
       "    features: ['text'],\n",
       "    num_rows: 1000\n",
       "})"
      ]
     },
     "execution_count": 35,
     "metadata": {},
     "output_type": "execute_result"
    }
   ],
   "source": [
    "data = {'text': X_test.to_list()}\n",
    "dataset = Dataset.from_dict(data)\n",
    "dataset"
   ]
  },
  {
   "cell_type": "code",
   "execution_count": 36,
   "id": "687bf7db-1038-4862-a2b5-53bd57a1a90e",
   "metadata": {},
   "outputs": [],
   "source": [
    "def zero_shot_classifier(classifier, x):\n",
    "    return classifier(x['text'], candidate_labels, multi_label=False)"
   ]
  },
  {
   "cell_type": "code",
   "execution_count": 37,
   "id": "19c29ae5-6136-4680-b70f-a275de6f3626",
   "metadata": {},
   "outputs": [
    {
     "data": {
      "application/vnd.jupyter.widget-view+json": {
       "model_id": "d031ba880d77463ab94c065c80ee671e",
       "version_major": 2,
       "version_minor": 0
      },
      "text/plain": [
       "Map:   0%|          | 0/1000 [00:00<?, ? examples/s]"
      ]
     },
     "metadata": {},
     "output_type": "display_data"
    }
   ],
   "source": [
    "output = dataset.map(lambda x: zero_shot_classifier(classifier, x))"
   ]
  },
  {
   "cell_type": "code",
   "execution_count": 38,
   "id": "d082e4ae-56ef-4f15-b634-aca338b8991f",
   "metadata": {},
   "outputs": [],
   "source": [
    "y_pred = []\n",
    "for y in output:\n",
    "  y_pred.append(y['labels'][0])"
   ]
  },
  {
   "cell_type": "code",
   "execution_count": 39,
   "id": "7063e729-1635-46d2-bb6b-e8cbcae20836",
   "metadata": {},
   "outputs": [
    {
     "name": "stdout",
     "output_type": "stream",
     "text": [
      "                                                  precision    recall  f1-score   support\n",
      "\n",
      "                           Refund not showing up       0.00      0.00      0.00        17\n",
      "                                activate my card       0.00      0.00      0.00        16\n",
      "                                       age limit       0.00      0.00      0.00        10\n",
      "                         apple pay or google pay       0.03      0.07      0.04        14\n",
      "                                     atm support       0.00      0.00      0.00         9\n",
      "                                automatic top up       0.00      0.00      0.00        14\n",
      "         balance not updated after bank transfer       0.00      0.00      0.00        17\n",
      "balance not updated after cheque or cash deposit       0.00      0.00      0.00        17\n",
      "                         beneficiary not allowed       0.00      0.00      0.00        15\n",
      "                                 cancel transfer       0.01      0.21      0.02        14\n",
      "                            card about to expire       0.00      0.00      0.00        13\n",
      "                                 card acceptance       0.00      0.00      0.00         7\n",
      "                                    card arrival       0.00      0.00      0.00        15\n",
      "                          card delivery estimate       0.00      0.00      0.00        11\n",
      "                                    card linking       0.05      0.12      0.07        16\n",
      "                                card not working       0.00      0.00      0.00        13\n",
      "                        card payment fee charged       0.00      0.00      0.00        21\n",
      "                     card payment not recognised       0.00      0.00      0.00        14\n",
      "                card payment wrong exchange rate       0.00      0.00      0.00        17\n",
      "                                  card swallowed       0.00      0.00      0.00         6\n",
      "                          cash withdrawal charge       0.00      0.00      0.00        17\n",
      "                  cash withdrawal not recognised       0.00      0.00      0.00        16\n",
      "                                      change pin       0.10      0.08      0.09        13\n",
      "                                compromised card       0.00      0.00      0.00         9\n",
      "                         contactless not working       0.00      0.00      0.00         3\n",
      "                                 country support       0.00      0.00      0.00        14\n",
      "                           declined card payment       0.14      0.06      0.09        16\n",
      "                        declined cash withdrawal       0.08      0.11      0.10        18\n",
      "                               declined transfer       0.00      0.00      0.00        13\n",
      "             direct debit payment not recognised       0.00      0.00      0.00        18\n",
      "                          disposable card limits       0.00      0.00      0.00        12\n",
      "                           edit personal details       0.00      0.00      0.00        11\n",
      "                                 exchange charge       0.00      0.00      0.00        13\n",
      "                                   exchange rate       0.00      0.00      0.00        11\n",
      "                                exchange via app       0.00      0.00      0.00        12\n",
      "                       extra charge on statement       0.00      0.00      0.00        19\n",
      "                                 failed transfer       0.00      0.00      0.00        14\n",
      "                           fiat currency support       0.00      0.00      0.00        12\n",
      "                     get disposable virtual card       0.00      0.00      0.00         9\n",
      "                               get physical card       0.00      0.00      0.00         9\n",
      "                              getting spare card       0.00      0.00      0.00        10\n",
      "                            getting virtual card       0.00      0.00      0.00         7\n",
      "                             lost or stolen card       0.00      0.00      0.00        10\n",
      "                            lost or stolen phone       0.00      0.00      0.00        13\n",
      "                             order physical card       0.00      0.00      0.00        11\n",
      "                              passcode forgotten       0.00      0.00      0.00        11\n",
      "                            pending card payment       0.00      0.00      0.00        16\n",
      "                         pending cash withdrawal       0.00      0.00      0.00        13\n",
      "                                  pending top up       0.00      0.00      0.00        15\n",
      "                                pending transfer       0.00      0.00      0.00        13\n",
      "                                     pin blocked       0.00      0.00      0.00        10\n",
      "                                 receiving money       0.00      0.00      0.00         9\n",
      "                                  request refund       0.00      0.00      0.00        18\n",
      "                          reverted card payment?       0.00      0.00      0.00        16\n",
      "                  supported cards and currencies       0.03      0.07      0.05        14\n",
      "                               terminate account       0.00      0.00      0.00        10\n",
      "                  top up by bank transfer charge       0.00      0.00      0.00        12\n",
      "                           top up by card charge       0.00      0.00      0.00        12\n",
      "                        top up by cash or cheque       0.00      0.00      0.00        12\n",
      "                                   top up failed       0.00      0.00      0.00        14\n",
      "                                   top up limits       0.00      0.00      0.00         9\n",
      "                                 top up reverted       0.00      0.00      0.00        15\n",
      "                              topping up by card       0.01      0.09      0.03        11\n",
      "                       transaction charged twice       0.00      0.00      0.00        17\n",
      "                            transfer fee charged       0.00      0.00      0.00        16\n",
      "                           transfer into account       0.00      0.00      0.00         9\n",
      "              transfer not received by recipient       0.00      0.00      0.00        18\n",
      "                                 transfer timing       0.00      0.00      0.00        15\n",
      "                       unable to verify identity       0.00      0.00      0.00         9\n",
      "                              verify my identity       0.00      0.00      0.00        11\n",
      "                          verify source of funds       0.00      0.00      0.00        12\n",
      "                                   verify top up       0.02      0.08      0.03        13\n",
      "                        virtual card not working       0.00      0.00      0.00         4\n",
      "                              visa or mastercard       0.00      0.00      0.00        14\n",
      "                             why verify identity       0.00      0.00      0.00        12\n",
      "                   wrong amount of cash received       0.00      0.00      0.00        18\n",
      "         wrong exchange rate for cash withdrawal       0.00      0.00      0.00        16\n",
      "\n",
      "                                        accuracy                           0.01      1000\n",
      "                                       macro avg       0.01      0.01      0.01      1000\n",
      "                                    weighted avg       0.01      0.01      0.01      1000\n",
      "\n"
     ]
    },
    {
     "name": "stderr",
     "output_type": "stream",
     "text": [
      "/usr/local/lib/python3.10/dist-packages/sklearn/metrics/_classification.py:1565: UndefinedMetricWarning: Precision is ill-defined and being set to 0.0 in labels with no predicted samples. Use `zero_division` parameter to control this behavior.\n",
      "  _warn_prf(average, modifier, f\"{metric.capitalize()} is\", len(result))\n",
      "/usr/local/lib/python3.10/dist-packages/sklearn/metrics/_classification.py:1565: UndefinedMetricWarning: Precision is ill-defined and being set to 0.0 in labels with no predicted samples. Use `zero_division` parameter to control this behavior.\n",
      "  _warn_prf(average, modifier, f\"{metric.capitalize()} is\", len(result))\n",
      "/usr/local/lib/python3.10/dist-packages/sklearn/metrics/_classification.py:1565: UndefinedMetricWarning: Precision is ill-defined and being set to 0.0 in labels with no predicted samples. Use `zero_division` parameter to control this behavior.\n",
      "  _warn_prf(average, modifier, f\"{metric.capitalize()} is\", len(result))\n"
     ]
    }
   ],
   "source": [
    "print(metrics.classification_report(y_test, y_pred))"
   ]
  },
  {
   "cell_type": "code",
   "execution_count": 40,
   "id": "83a062f6-b545-43f5-9c21-5a884771cc44",
   "metadata": {},
   "outputs": [
    {
     "name": "stdout",
     "output_type": "stream",
     "text": [
      "f1_score: 0.007566901600341497\n",
      "precision_score: 0.007360111245354419\n",
      "recall_score: 0.013\n"
     ]
    },
    {
     "name": "stderr",
     "output_type": "stream",
     "text": [
      "/usr/local/lib/python3.10/dist-packages/sklearn/metrics/_classification.py:1565: UndefinedMetricWarning: Precision is ill-defined and being set to 0.0 in labels with no predicted samples. Use `zero_division` parameter to control this behavior.\n",
      "  _warn_prf(average, modifier, f\"{metric.capitalize()} is\", len(result))\n"
     ]
    }
   ],
   "source": [
    "compute_metrics(y_test, y_pred)"
   ]
  },
  {
   "cell_type": "code",
   "execution_count": null,
   "id": "3ac5ae60-2657-48a1-aa94-7a1acd95b6ff",
   "metadata": {},
   "outputs": [],
   "source": []
  }
 ],
 "metadata": {
  "kernelspec": {
   "display_name": "Python 3 (ipykernel)",
   "language": "python",
   "name": "python3"
  },
  "language_info": {
   "codemirror_mode": {
    "name": "ipython",
    "version": 3
   },
   "file_extension": ".py",
   "mimetype": "text/x-python",
   "name": "python",
   "nbconvert_exporter": "python",
   "pygments_lexer": "ipython3",
   "version": "3.10.12"
  }
 },
 "nbformat": 4,
 "nbformat_minor": 5
}
